{
  "cells": [
    {
      "cell_type": "code",
      "source": [
        "!pip install catboost\n"
      ],
      "metadata": {
        "colab": {
          "base_uri": "https://localhost:8080/"
        },
        "id": "g_BAgNmRB-5w",
        "outputId": "ac444217-d4f1-4d37-fc50-4b2b21876015"
      },
      "id": "g_BAgNmRB-5w",
      "execution_count": 3,
      "outputs": [
        {
          "output_type": "stream",
          "name": "stdout",
          "text": [
            "Collecting catboost\n",
            "  Downloading catboost-1.2.8-cp312-cp312-manylinux2014_x86_64.whl.metadata (1.2 kB)\n",
            "Requirement already satisfied: graphviz in /usr/local/lib/python3.12/dist-packages (from catboost) (0.21)\n",
            "Requirement already satisfied: matplotlib in /usr/local/lib/python3.12/dist-packages (from catboost) (3.10.0)\n",
            "Requirement already satisfied: numpy<3.0,>=1.16.0 in /usr/local/lib/python3.12/dist-packages (from catboost) (2.0.2)\n",
            "Requirement already satisfied: pandas>=0.24 in /usr/local/lib/python3.12/dist-packages (from catboost) (2.2.2)\n",
            "Requirement already satisfied: scipy in /usr/local/lib/python3.12/dist-packages (from catboost) (1.16.2)\n",
            "Requirement already satisfied: plotly in /usr/local/lib/python3.12/dist-packages (from catboost) (5.24.1)\n",
            "Requirement already satisfied: six in /usr/local/lib/python3.12/dist-packages (from catboost) (1.17.0)\n",
            "Requirement already satisfied: python-dateutil>=2.8.2 in /usr/local/lib/python3.12/dist-packages (from pandas>=0.24->catboost) (2.9.0.post0)\n",
            "Requirement already satisfied: pytz>=2020.1 in /usr/local/lib/python3.12/dist-packages (from pandas>=0.24->catboost) (2025.2)\n",
            "Requirement already satisfied: tzdata>=2022.7 in /usr/local/lib/python3.12/dist-packages (from pandas>=0.24->catboost) (2025.2)\n",
            "Requirement already satisfied: contourpy>=1.0.1 in /usr/local/lib/python3.12/dist-packages (from matplotlib->catboost) (1.3.3)\n",
            "Requirement already satisfied: cycler>=0.10 in /usr/local/lib/python3.12/dist-packages (from matplotlib->catboost) (0.12.1)\n",
            "Requirement already satisfied: fonttools>=4.22.0 in /usr/local/lib/python3.12/dist-packages (from matplotlib->catboost) (4.60.1)\n",
            "Requirement already satisfied: kiwisolver>=1.3.1 in /usr/local/lib/python3.12/dist-packages (from matplotlib->catboost) (1.4.9)\n",
            "Requirement already satisfied: packaging>=20.0 in /usr/local/lib/python3.12/dist-packages (from matplotlib->catboost) (25.0)\n",
            "Requirement already satisfied: pillow>=8 in /usr/local/lib/python3.12/dist-packages (from matplotlib->catboost) (11.3.0)\n",
            "Requirement already satisfied: pyparsing>=2.3.1 in /usr/local/lib/python3.12/dist-packages (from matplotlib->catboost) (3.2.5)\n",
            "Requirement already satisfied: tenacity>=6.2.0 in /usr/local/lib/python3.12/dist-packages (from plotly->catboost) (8.5.0)\n",
            "Downloading catboost-1.2.8-cp312-cp312-manylinux2014_x86_64.whl (99.2 MB)\n",
            "\u001b[2K   \u001b[90m━━━━━━━━━━━━━━━━━━━━━━━━━━━━━━━━━━━━━━━━\u001b[0m \u001b[32m99.2/99.2 MB\u001b[0m \u001b[31m11.5 MB/s\u001b[0m eta \u001b[36m0:00:00\u001b[0m\n",
            "\u001b[?25hInstalling collected packages: catboost\n",
            "Successfully installed catboost-1.2.8\n"
          ]
        }
      ]
    },
    {
      "cell_type": "code",
      "execution_count": 1,
      "id": "48960fd3",
      "metadata": {
        "colab": {
          "base_uri": "https://localhost:8080/"
        },
        "id": "48960fd3",
        "outputId": "e3bbcd4f-e40b-40f1-fa31-d3fb653c8856"
      },
      "outputs": [
        {
          "output_type": "stream",
          "name": "stdout",
          "text": [
            "Collecting optuna\n",
            "  Downloading optuna-4.5.0-py3-none-any.whl.metadata (17 kB)\n",
            "Requirement already satisfied: alembic>=1.5.0 in /usr/local/lib/python3.12/dist-packages (from optuna) (1.16.5)\n",
            "Collecting colorlog (from optuna)\n",
            "  Downloading colorlog-6.9.0-py3-none-any.whl.metadata (10 kB)\n",
            "Requirement already satisfied: numpy in /usr/local/lib/python3.12/dist-packages (from optuna) (2.0.2)\n",
            "Requirement already satisfied: packaging>=20.0 in /usr/local/lib/python3.12/dist-packages (from optuna) (25.0)\n",
            "Requirement already satisfied: sqlalchemy>=1.4.2 in /usr/local/lib/python3.12/dist-packages (from optuna) (2.0.43)\n",
            "Requirement already satisfied: tqdm in /usr/local/lib/python3.12/dist-packages (from optuna) (4.67.1)\n",
            "Requirement already satisfied: PyYAML in /usr/local/lib/python3.12/dist-packages (from optuna) (6.0.3)\n",
            "Requirement already satisfied: Mako in /usr/local/lib/python3.12/dist-packages (from alembic>=1.5.0->optuna) (1.3.10)\n",
            "Requirement already satisfied: typing-extensions>=4.12 in /usr/local/lib/python3.12/dist-packages (from alembic>=1.5.0->optuna) (4.15.0)\n",
            "Requirement already satisfied: greenlet>=1 in /usr/local/lib/python3.12/dist-packages (from sqlalchemy>=1.4.2->optuna) (3.2.4)\n",
            "Requirement already satisfied: MarkupSafe>=0.9.2 in /usr/local/lib/python3.12/dist-packages (from Mako->alembic>=1.5.0->optuna) (3.0.3)\n",
            "Downloading optuna-4.5.0-py3-none-any.whl (400 kB)\n",
            "\u001b[2K   \u001b[90m━━━━━━━━━━━━━━━━━━━━━━━━━━━━━━━━━━━━━━━━\u001b[0m \u001b[32m400.9/400.9 kB\u001b[0m \u001b[31m13.0 MB/s\u001b[0m eta \u001b[36m0:00:00\u001b[0m\n",
            "\u001b[?25hDownloading colorlog-6.9.0-py3-none-any.whl (11 kB)\n",
            "Installing collected packages: colorlog, optuna\n",
            "Successfully installed colorlog-6.9.0 optuna-4.5.0\n"
          ]
        }
      ],
      "source": [
        "!pip install optuna\n"
      ]
    },
    {
      "cell_type": "code",
      "execution_count": 4,
      "id": "19809f50",
      "metadata": {
        "id": "19809f50"
      },
      "outputs": [],
      "source": [
        "import numpy as np\n",
        "import pandas as pd\n",
        "from sklearn.preprocessing import LabelEncoder\n",
        "from sklearn.model_selection import train_test_split\n",
        "from datetime import datetime, timedelta\n",
        "from sklearn.ensemble import GradientBoostingClassifier\n",
        "from sklearn.metrics import accuracy_score\n",
        "import matplotlib.pyplot as plt\n",
        "import lightgbm as lgb\n",
        "import xgboost as xgb\n",
        "import seaborn as sns\n",
        "from catboost import CatBoostClassifier\n",
        "from sklearn.preprocessing import StandardScaler\n",
        "from sklearn.decomposition import PCA\n",
        "import matplotlib.pyplot as plt\n",
        "from sklearn.model_selection import cross_val_score\n",
        "from sklearn.metrics import accuracy_score\n",
        "from sklearn.model_selection import GridSearchCV\n",
        "from sklearn.model_selection import RandomizedSearchCV\n",
        "from scipy.stats import randint\n",
        "import optuna\n",
        "from optuna import Trial, visualization\n",
        "from sklearn.metrics import accuracy_score\n",
        "from catboost import CatBoostClassifier"
      ]
    },
    {
      "cell_type": "code",
      "execution_count": 7,
      "id": "076ebd2e",
      "metadata": {
        "id": "076ebd2e"
      },
      "outputs": [],
      "source": [
        "data = pd.read_csv('/content/data.csv')\n"
      ]
    },
    {
      "cell_type": "code",
      "execution_count": 8,
      "id": "08d2a6dd",
      "metadata": {
        "colab": {
          "base_uri": "https://localhost:8080/",
          "height": 458
        },
        "id": "08d2a6dd",
        "outputId": "528b03fc-b188-450e-ea09-fb860ee02a0f"
      },
      "outputs": [
        {
          "output_type": "execute_result",
          "data": {
            "text/plain": [
              "match id                    False\n",
              "team1                       False\n",
              "team1_id                    False\n",
              "team1_roster_ids            False\n",
              "team2                       False\n",
              "                            ...  \n",
              "team_ratio_bat_form         False\n",
              "team_ratio_bowl_form        False\n",
              "team_ratio_last5_avg        False\n",
              "team_ratio_last5_eco_top    False\n",
              "team_ratio_last5_eco_bot    False\n",
              "Length: 98, dtype: bool"
            ],
            "text/html": [
              "<div>\n",
              "<style scoped>\n",
              "    .dataframe tbody tr th:only-of-type {\n",
              "        vertical-align: middle;\n",
              "    }\n",
              "\n",
              "    .dataframe tbody tr th {\n",
              "        vertical-align: top;\n",
              "    }\n",
              "\n",
              "    .dataframe thead th {\n",
              "        text-align: right;\n",
              "    }\n",
              "</style>\n",
              "<table border=\"1\" class=\"dataframe\">\n",
              "  <thead>\n",
              "    <tr style=\"text-align: right;\">\n",
              "      <th></th>\n",
              "      <th>0</th>\n",
              "    </tr>\n",
              "  </thead>\n",
              "  <tbody>\n",
              "    <tr>\n",
              "      <th>match id</th>\n",
              "      <td>False</td>\n",
              "    </tr>\n",
              "    <tr>\n",
              "      <th>team1</th>\n",
              "      <td>False</td>\n",
              "    </tr>\n",
              "    <tr>\n",
              "      <th>team1_id</th>\n",
              "      <td>False</td>\n",
              "    </tr>\n",
              "    <tr>\n",
              "      <th>team1_roster_ids</th>\n",
              "      <td>False</td>\n",
              "    </tr>\n",
              "    <tr>\n",
              "      <th>team2</th>\n",
              "      <td>False</td>\n",
              "    </tr>\n",
              "    <tr>\n",
              "      <th>...</th>\n",
              "      <td>...</td>\n",
              "    </tr>\n",
              "    <tr>\n",
              "      <th>team_ratio_bat_form</th>\n",
              "      <td>False</td>\n",
              "    </tr>\n",
              "    <tr>\n",
              "      <th>team_ratio_bowl_form</th>\n",
              "      <td>False</td>\n",
              "    </tr>\n",
              "    <tr>\n",
              "      <th>team_ratio_last5_avg</th>\n",
              "      <td>False</td>\n",
              "    </tr>\n",
              "    <tr>\n",
              "      <th>team_ratio_last5_eco_top</th>\n",
              "      <td>False</td>\n",
              "    </tr>\n",
              "    <tr>\n",
              "      <th>team_ratio_last5_eco_bot</th>\n",
              "      <td>False</td>\n",
              "    </tr>\n",
              "  </tbody>\n",
              "</table>\n",
              "<p>98 rows × 1 columns</p>\n",
              "</div><br><label><b>dtype:</b> bool</label>"
            ]
          },
          "metadata": {},
          "execution_count": 8
        }
      ],
      "source": [
        "data.isna().any()"
      ]
    },
    {
      "cell_type": "code",
      "execution_count": 9,
      "id": "12fd52a3",
      "metadata": {
        "id": "12fd52a3"
      },
      "outputs": [],
      "source": [
        "data=data.fillna(0)\n",
        "# filling data with 0 will not hv a larger effect \\\n",
        "# as while developing features for players for which data is not available has been ignored"
      ]
    },
    {
      "cell_type": "code",
      "execution_count": 10,
      "id": "92bc3128",
      "metadata": {
        "colab": {
          "base_uri": "https://localhost:8080/"
        },
        "id": "92bc3128",
        "outputId": "a50a75e1-9a8b-458c-f035-08f8068df97d"
      },
      "outputs": [
        {
          "output_type": "stream",
          "name": "stdout",
          "text": [
            "<class 'pandas.core.frame.DataFrame'>\n",
            "RangeIndex: 948 entries, 0 to 947\n",
            "Data columns (total 98 columns):\n",
            " #   Column                     Non-Null Count  Dtype  \n",
            "---  ------                     --------------  -----  \n",
            " 0   match id                   948 non-null    int64  \n",
            " 1   team1                      948 non-null    int64  \n",
            " 2   team1_id                   948 non-null    int64  \n",
            " 3   team1_roster_ids           948 non-null    object \n",
            " 4   team2                      948 non-null    int64  \n",
            " 5   team2_id                   948 non-null    int64  \n",
            " 6   team2_roster_ids           948 non-null    object \n",
            " 7   winner                     948 non-null    int64  \n",
            " 8   winner_id                  948 non-null    int64  \n",
            " 9   toss winner                948 non-null    int64  \n",
            " 10  toss decision              948 non-null    int64  \n",
            " 11  venue                      948 non-null    int64  \n",
            " 12  city                       948 non-null    int64  \n",
            " 13  match_dt                   948 non-null    object \n",
            " 14  lighting                   948 non-null    int64  \n",
            " 15  series_name                948 non-null    int64  \n",
            " 16  season                     948 non-null    int64  \n",
            " 17  ground_id                  948 non-null    int64  \n",
            " 18  team_count_50runs_last15   948 non-null    float64\n",
            " 19  team_winp_last5            948 non-null    float64\n",
            " 20  team1only_avg_runs_last15  948 non-null    float64\n",
            " 21  team1_winp_team2_last15    948 non-null    float64\n",
            " 22  ground_avg_runs_last15     948 non-null    float64\n",
            " 23  year                       948 non-null    int64  \n",
            " 24  month                      948 non-null    int64  \n",
            " 25  day                        948 non-null    int64  \n",
            " 26  team1_top4_avg             948 non-null    float64\n",
            " 27  team2_top4_avg             948 non-null    float64\n",
            " 28  team1_top4_bats            948 non-null    float64\n",
            " 29  team2_top4_bats            948 non-null    float64\n",
            " 30  team1_top4_eco             948 non-null    float64\n",
            " 31  team2_top4_eco             948 non-null    float64\n",
            " 32  team1_bot4_eco             948 non-null    float64\n",
            " 33  team2_bot4_eco             948 non-null    float64\n",
            " 34  team1_top2_wck             948 non-null    float64\n",
            " 35  team2_top2_wck             948 non-null    float64\n",
            " 36  team1_avg_top4_ag          948 non-null    float64\n",
            " 37  team2_avg_top4_ag          948 non-null    float64\n",
            " 38  team1_eco_bot4_ag          948 non-null    float64\n",
            " 39  team2_eco_bot4_ag          948 non-null    float64\n",
            " 40  team1_eco_top4_ag          948 non-null    float64\n",
            " 41  team2_eco_top4_ag          948 non-null    float64\n",
            " 42  team1_wck_top2_ag          948 non-null    float64\n",
            " 43  team2_wck_top2_ag          948 non-null    float64\n",
            " 44  team1_avg_top4_ve          948 non-null    float64\n",
            " 45  team2_avg_top4_ve          948 non-null    float64\n",
            " 46  team1_eco_top4_ve          948 non-null    float64\n",
            " 47  team2_eco_top4_ve          948 non-null    float64\n",
            " 48  team1_eco_bot4_ve          948 non-null    float64\n",
            " 49  team2_eco_bot4_ve          948 non-null    float64\n",
            " 50  team1_wck_top2_ve          948 non-null    float64\n",
            " 51  team2_wck_top2_ve          948 non-null    float64\n",
            " 52  team1_count_rel_bats       948 non-null    int64  \n",
            " 53  team2_count_rel_bats       948 non-null    int64  \n",
            " 54  team1_count_rel_bowl       948 non-null    int64  \n",
            " 55  team2_count_rel_bowl       948 non-null    int64  \n",
            " 56  team1_avg_top4_in          948 non-null    float64\n",
            " 57  team2_avg_top4_in          948 non-null    float64\n",
            " 58  team1_eco_top4_in          948 non-null    float64\n",
            " 59  team2_eco_top4_in          948 non-null    float64\n",
            " 60  team1_eco_bot4_in          948 non-null    float64\n",
            " 61  team2_eco_bot4_in          948 non-null    float64\n",
            " 62  team1_wck_top2_in          948 non-null    float64\n",
            " 63  team2_wck_top2_in          948 non-null    float64\n",
            " 64  team1_count_bat_form       948 non-null    int64  \n",
            " 65  team2_count_bat_form       948 non-null    int64  \n",
            " 66  team1_last5_avg            948 non-null    float64\n",
            " 67  team2_last5_avg            948 non-null    float64\n",
            " 68  team1_last5_eco_top        948 non-null    float64\n",
            " 69  team2_last5_eco_top        948 non-null    float64\n",
            " 70  team1_last5_eco_bot        948 non-null    float64\n",
            " 71  team2_last5_eco_bot        948 non-null    float64\n",
            " 72  team1_count_bowl_form      948 non-null    int64  \n",
            " 73  team2_count_bowl_form      948 non-null    int64  \n",
            " 74  team_ratio_avg             948 non-null    float64\n",
            " 75  team_ratio_bats            948 non-null    float64\n",
            " 76  team_ratio_eco_top         948 non-null    float64\n",
            " 77  team_ratio_eco_bot         948 non-null    float64\n",
            " 78  team_ratio_wck             948 non-null    float64\n",
            " 79  team_ratio_avg_ag          948 non-null    float64\n",
            " 80  team_ratio_avg_ve          948 non-null    float64\n",
            " 81  team_ratio_avg_in          948 non-null    float64\n",
            " 82  team_ratio_eco_top_ag      948 non-null    float64\n",
            " 83  team_ratio_eco_top_ve      948 non-null    float64\n",
            " 84  team_ratio_eco_top_in      948 non-null    float64\n",
            " 85  team_ratio_eco_bot_ag      948 non-null    float64\n",
            " 86  team_ratio_eco_bot_ve      948 non-null    float64\n",
            " 87  team_ratio_eco_bot_in      948 non-null    float64\n",
            " 88  team_ratio_wck_top_ag      948 non-null    float64\n",
            " 89  team_ratio_wck_top_ve      948 non-null    float64\n",
            " 90  team_ratio_wck_top_in      948 non-null    float64\n",
            " 91  team_ratio_rel_bats        948 non-null    int64  \n",
            " 92  team_ratio_rel_bowl        948 non-null    int64  \n",
            " 93  team_ratio_bat_form        948 non-null    int64  \n",
            " 94  team_ratio_bowl_form       948 non-null    int64  \n",
            " 95  team_ratio_last5_avg       948 non-null    float64\n",
            " 96  team_ratio_last5_eco_top   948 non-null    float64\n",
            " 97  team_ratio_last5_eco_bot   948 non-null    float64\n",
            "dtypes: float64(65), int64(30), object(3)\n",
            "memory usage: 725.9+ KB\n"
          ]
        }
      ],
      "source": [
        "data.info()"
      ]
    },
    {
      "cell_type": "code",
      "execution_count": 11,
      "id": "8ce4a6f0",
      "metadata": {
        "id": "8ce4a6f0"
      },
      "outputs": [],
      "source": [
        "features = [\n",
        "    'match id', 'team1',  'team2', 'toss winner', 'toss decision', 'venue', 'city',  'lighting',\n",
        "    'series_name', 'season', 'ground_id', 'team_count_50runs_last15', 'team_winp_last5',\n",
        "    'team1only_avg_runs_last15', 'team1_winp_team2_last15', 'ground_avg_runs_last15', 'year', 'month',\n",
        "    'day', 'team1_top4_avg', 'team2_top4_avg', 'team1_top4_bats', 'team2_top4_bats', 'team1_top4_eco',\n",
        "    'team2_top4_eco', 'team1_bot4_eco', 'team2_bot4_eco', 'team1_top2_wck', 'team2_top2_wck',\n",
        "    'team1_avg_top4_ag', 'team2_avg_top4_ag', 'team1_eco_bot4_ag', 'team2_eco_bot4_ag', 'team1_eco_top4_ag',\n",
        "    'team2_eco_top4_ag', 'team1_wck_top2_ag', 'team2_wck_top2_ag', 'team1_avg_top4_ve', 'team2_avg_top4_ve',\n",
        "    'team1_eco_top4_ve', 'team2_eco_top4_ve', 'team1_eco_bot4_ve', 'team2_eco_bot4_ve', 'team1_wck_top2_ve',\n",
        "    'team2_wck_top2_ve', 'team1_count_rel_bats', 'team2_count_rel_bats', 'team1_count_rel_bowl',\n",
        "    'team2_count_rel_bowl', 'team1_avg_top4_in', 'team2_avg_top4_in', 'team1_eco_top4_in',\n",
        "    'team2_eco_top4_in', 'team1_eco_bot4_in', 'team2_eco_bot4_in', 'team1_wck_top2_in', 'team2_wck_top2_in',\n",
        "    'team1_count_bat_form', 'team2_count_bat_form', 'team1_last5_avg', 'team2_last5_avg',\n",
        "    'team1_last5_eco_top', 'team2_last5_eco_top', 'team1_last5_eco_bot', 'team2_last5_eco_bot',\n",
        "    'team1_count_bowl_form', 'team2_count_bowl_form', 'team_ratio_avg', 'team_ratio_bats',\n",
        "    'team_ratio_eco_top', 'team_ratio_eco_bot', 'team_ratio_wck', 'team_ratio_avg_ag', 'team_ratio_avg_ve',\n",
        "    'team_ratio_avg_in', 'team_ratio_eco_top_ag', 'team_ratio_eco_top_ve', 'team_ratio_eco_top_in',\n",
        "    'team_ratio_eco_bot_ag', 'team_ratio_eco_bot_ve', 'team_ratio_eco_bot_in', 'team_ratio_wck_top_ag',\n",
        "    'team_ratio_wck_top_ve', 'team_ratio_wck_top_in', 'team_ratio_rel_bats', 'team_ratio_rel_bowl',\n",
        "    'team_ratio_bat_form', 'team_ratio_bowl_form', 'team_ratio_last5_avg', 'team_ratio_last5_eco_top',\n",
        "    'team_ratio_last5_eco_bot'\n",
        "]\n"
      ]
    },
    {
      "cell_type": "code",
      "execution_count": 12,
      "id": "44ffd0c8",
      "metadata": {
        "id": "44ffd0c8"
      },
      "outputs": [],
      "source": [
        "y=data['winner']\n",
        "x=data[features]"
      ]
    },
    {
      "cell_type": "code",
      "execution_count": 13,
      "id": "43282213",
      "metadata": {
        "colab": {
          "base_uri": "https://localhost:8080/",
          "height": 1000
        },
        "id": "43282213",
        "outputId": "665295fe-d9f0-4417-897e-f221939cf108"
      },
      "outputs": [
        {
          "output_type": "stream",
          "name": "stdout",
          "text": [
            "For k=1, GBM mean cross-validated accuracy: 0.677181843497633\n",
            "For k=2, GBM mean cross-validated accuracy: 0.7173210804789752\n",
            "For k=3, GBM mean cross-validated accuracy: 0.7373712057922585\n",
            "For k=4, GBM mean cross-validated accuracy: 0.7542522974101921\n",
            "For k=5, GBM mean cross-validated accuracy: 0.7489724310776943\n",
            "For k=6, GBM mean cross-validated accuracy: 0.7499916457811195\n",
            "For k=7, GBM mean cross-validated accuracy: 0.7489390142021721\n",
            "For k=8, GBM mean cross-validated accuracy: 0.7468281815650236\n",
            "For k=9, GBM mean cross-validated accuracy: 0.7679086605402394\n",
            "For k=10, GBM mean cross-validated accuracy: 0.771077694235589\n",
            "For k=11, GBM mean cross-validated accuracy: 0.7668783068783067\n",
            "For k=12, GBM mean cross-validated accuracy: 0.7584572542467279\n",
            "For k=13, GBM mean cross-validated accuracy: 0.7689891395154553\n",
            "For k=14, GBM mean cross-validated accuracy: 0.7879587858535226\n",
            "For k=15, GBM mean cross-validated accuracy: 0.7763742690058479\n",
            "For k=16, GBM mean cross-validated accuracy: 0.78796992481203\n",
            "For k=17, GBM mean cross-validated accuracy: 0.768994708994709\n",
            "For k=18, GBM mean cross-validated accuracy: 0.7795210247841827\n",
            "For k=19, GBM mean cross-validated accuracy: 0.7731996658312448\n",
            "For k=20, GBM mean cross-validated accuracy: 0.7669228627123365\n",
            "For k=21, GBM mean cross-validated accuracy: 0.7753216374269006\n",
            "For k=22, GBM mean cross-validated accuracy: 0.7784851016429963\n",
            "For k=23, GBM mean cross-validated accuracy: 0.7700640490114175\n",
            "For k=24, GBM mean cross-validated accuracy: 0.7753327763854079\n",
            "For k=25, GBM mean cross-validated accuracy: 0.7795600111389586\n",
            "For k=26, GBM mean cross-validated accuracy: 0.7837761069340017\n",
            "For k=27, GBM mean cross-validated accuracy: 0.783770537454748\n",
            "For k=28, GBM mean cross-validated accuracy: 0.780595934280145\n",
            "For k=29, GBM mean cross-validated accuracy: 0.784828738512949\n",
            "For k=30, GBM mean cross-validated accuracy: 0.7826789195210246\n",
            "For k=31, GBM mean cross-validated accuracy: 0.7848231690336953\n",
            "For k=32, GBM mean cross-validated accuracy: 0.7879810637705374\n",
            "For k=33, GBM mean cross-validated accuracy: 0.7900807574491785\n",
            "For k=34, GBM mean cross-validated accuracy: 0.7837538290169869\n",
            "For k=35, GBM mean cross-validated accuracy: 0.7890726817042607\n",
            "For k=36, GBM mean cross-validated accuracy: 0.7880033416875522\n",
            "For k=37, GBM mean cross-validated accuracy: 0.7890559732664995\n",
            "For k=38, GBM mean cross-validated accuracy: 0.7763854079643553\n",
            "For k=39, GBM mean cross-validated accuracy: 0.7795433027011974\n",
            "For k=40, GBM mean cross-validated accuracy: 0.7837761069340017\n",
            "For k=41, GBM mean cross-validated accuracy: 0.7932609301030353\n",
            "For k=42, GBM mean cross-validated accuracy: 0.7879754942912838\n",
            "For k=43, GBM mean cross-validated accuracy: 0.790091896407686\n",
            "For k=44, GBM mean cross-validated accuracy: 0.7869228627123365\n",
            "For k=45, GBM mean cross-validated accuracy: 0.7858869395711501\n",
            "For k=46, GBM mean cross-validated accuracy: 0.7942968532442216\n",
            "For k=47, GBM mean cross-validated accuracy: 0.7880033416875522\n",
            "For k=48, GBM mean cross-validated accuracy: 0.789050403787246\n",
            "For k=49, GBM mean cross-validated accuracy: 0.7953829016986911\n",
            "For k=50, GBM mean cross-validated accuracy: 0.7922138680033417\n",
            "For k=51, GBM mean cross-validated accuracy: 0.7858925090504038\n",
            "For k=52, GBM mean cross-validated accuracy: 0.7996157059314954\n",
            "For k=53, GBM mean cross-validated accuracy: 0.7880033416875522\n",
            "For k=54, GBM mean cross-validated accuracy: 0.7900974658869396\n",
            "For k=55, GBM mean cross-validated accuracy: 0.7858869395711501\n",
            "For k=56, GBM mean cross-validated accuracy: 0.7942912837649679\n",
            "For k=57, GBM mean cross-validated accuracy: 0.7869340016708438\n",
            "For k=58, GBM mean cross-validated accuracy: 0.7943302701197438\n",
            "For k=59, GBM mean cross-validated accuracy: 0.781670843776107\n",
            "For k=60, GBM mean cross-validated accuracy: 0.79328320802005\n",
            "For k=61, GBM mean cross-validated accuracy: 0.7880033416875522\n",
            "For k=62, GBM mean cross-validated accuracy: 0.7932887774993038\n",
            "For k=63, GBM mean cross-validated accuracy: 0.7879810637705374\n",
            "For k=64, GBM mean cross-validated accuracy: 0.792225006961849\n",
            "For k=65, GBM mean cross-validated accuracy: 0.7943247006404901\n",
            "For k=66, GBM mean cross-validated accuracy: 0.7890782511835143\n",
            "For k=67, GBM mean cross-validated accuracy: 0.7932943469785575\n",
            "For k=68, GBM mean cross-validated accuracy: 0.7890559732664995\n",
            "For k=69, GBM mean cross-validated accuracy: 0.7922194374825955\n",
            "For k=70, GBM mean cross-validated accuracy: 0.795405179615706\n",
            "For k=71, GBM mean cross-validated accuracy: 0.7964466722361458\n",
            "For k=72, GBM mean cross-validated accuracy: 0.7890504037872459\n",
            "For k=73, GBM mean cross-validated accuracy: 0.7953884711779449\n",
            "For k=74, GBM mean cross-validated accuracy: 0.7890281258702311\n",
            "For k=75, GBM mean cross-validated accuracy: 0.7974937343358395\n",
            "For k=76, GBM mean cross-validated accuracy: 0.7964299637983847\n",
            "For k=77, GBM mean cross-validated accuracy: 0.7985519353940407\n",
            "For k=78, GBM mean cross-validated accuracy: 0.7848231690336953\n",
            "For k=79, GBM mean cross-validated accuracy: 0.8006516290726818\n",
            "For k=80, GBM mean cross-validated accuracy: 0.800646059593428\n",
            "For k=81, GBM mean cross-validated accuracy: 0.7879866332497911\n",
            "For k=82, GBM mean cross-validated accuracy: 0.7932553606237817\n",
            "For k=83, GBM mean cross-validated accuracy: 0.7985129490392648\n",
            "For k=84, GBM mean cross-validated accuracy: 0.7900807574491785\n",
            "For k=85, GBM mean cross-validated accuracy: 0.7932887774993038\n",
            "For k=86, GBM mean cross-validated accuracy: 0.8048788638262323\n",
            "For k=87, GBM mean cross-validated accuracy: 0.7922138680033417\n",
            "For k=88, GBM mean cross-validated accuracy: 0.7932664995822891\n",
            "For k=89, GBM mean cross-validated accuracy: 0.7922305764411027\n"
          ]
        },
        {
          "output_type": "display_data",
          "data": {
            "text/plain": [
              "<Figure size 1000x600 with 1 Axes>"
            ],
            "image/png": "[encoded data removed]"
          },
          "metadata": {}
        }
      ],
      "source": [
        "from sklearn.feature_selection import SelectKBest, mutual_info_regression\n",
        "from sklearn.model_selection import StratifiedKFold\n",
        "\n",
        "\n",
        "\n",
        "# Assuming X and y are your features and target variable before splitting\n",
        "\n",
        "k_values = range(1, 90)  # Start from 1 up to 25\n",
        "\n",
        "# Store accuracy scores for different k values\n",
        "accuracy_scores = []\n",
        "\n",
        "# Cross-validation setup\n",
        "cv = StratifiedKFold(n_splits=5, shuffle=True, random_state=0)\n",
        "\n",
        "for k in k_values:\n",
        "    # Store scores for the current k\n",
        "    cv_scores = []\n",
        "\n",
        "    for train_index, val_index in cv.split(x, y):\n",
        "        X_train, X_val = x.iloc[train_index], x.iloc[val_index]\n",
        "        y_train, y_val = y.iloc[train_index], y.iloc[val_index]\n",
        "\n",
        "        # Fit SelectKBest with mutual_info_regression and k\n",
        "        sel_k_cols = SelectKBest(mutual_info_regression, k=k)\n",
        "        sel_k_cols.fit(X_train, y_train)\n",
        "        mask = sel_k_cols.get_support()\n",
        "\n",
        "        # Update X_train and X_val to only contain the selected features\n",
        "        X_train_selected = X_train.loc[:, mask]\n",
        "        X_val_selected = X_val.loc[:, mask]\n",
        "\n",
        "        # Train GBM\n",
        "        gbm = GradientBoostingClassifier(random_state=0)\n",
        "        gbm.fit(X_train_selected, y_train)\n",
        "\n",
        "        # Predict on validation set\n",
        "        y_pred_gbm = gbm.predict(X_val_selected)\n",
        "\n",
        "        # Calculate accuracy and store it\n",
        "        accuracy = accuracy_score(y_val, y_pred_gbm)\n",
        "        cv_scores.append(accuracy)\n",
        "\n",
        "    # Store the mean accuracy for the current k\n",
        "    mean_accuracy = np.mean(cv_scores)\n",
        "    accuracy_scores.append(mean_accuracy)\n",
        "    print(f'For k={k}, GBM mean cross-validated accuracy: {mean_accuracy}')\n",
        "\n",
        "# Plotting the accuracy scores\n",
        "plt.figure(figsize=(10, 6))\n",
        "plt.plot(k_values, accuracy_scores, marker='o', linestyle='-', color='b', label='Accuracy')\n",
        "plt.title('Accuracy vs. Number of Features (k)')\n",
        "plt.xlabel('Number of Features (k)')\n",
        "plt.ylabel('Accuracy')\n",
        "plt.xticks(k_values)\n",
        "plt.grid(True)\n",
        "plt.legend()\n",
        "plt.tight_layout()\n",
        "plt.show()\n",
        "# highest: For k=57, GBM mean cross-validated accuracy: 0.8017098301308827"
      ]
    },
    {
      "cell_type": "code",
      "execution_count": 14,
      "id": "53be470c",
      "metadata": {
        "id": "53be470c"
      },
      "outputs": [],
      "source": [
        "from sklearn.feature_selection import SelectKBest\n",
        "\n",
        "sel_k_cols = SelectKBest(mutual_info_regression, k=57)\n",
        "sel_k_cols.fit(x, y)\n",
        "mask = sel_k_cols.get_support()\n",
        "\n",
        "# Update X_train to only contain the selected features\n",
        "x_selected = x.loc[:, mask]\n",
        "# X_train_selected\n",
        "\n",
        "# If you also want to transform the test set, use the same mask"
      ]
    },
    {
      "cell_type": "code",
      "execution_count": 15,
      "id": "8f48e95f",
      "metadata": {
        "id": "8f48e95f"
      },
      "outputs": [],
      "source": [
        "gbm = GradientBoostingClassifier()\n",
        "scores = cross_val_score(gbm, x_selected, y, cv=5, scoring='accuracy')"
      ]
    },
    {
      "cell_type": "code",
      "execution_count": 16,
      "id": "6c81639d",
      "metadata": {
        "colab": {
          "base_uri": "https://localhost:8080/"
        },
        "id": "6c81639d",
        "outputId": "cbbfcb27-2076-49b5-c8f2-77d3fa9e44df"
      },
      "outputs": [
        {
          "output_type": "execute_result",
          "data": {
            "text/plain": [
              "np.float64(0.7932832080200501)"
            ]
          },
          "metadata": {},
          "execution_count": 16
        }
      ],
      "source": [
        "scores.mean()\n",
        "# 0.8070119743803954"
      ]
    },
    {
      "cell_type": "code",
      "execution_count": null,
      "id": "c8b6a46a",
      "metadata": {
        "id": "c8b6a46a"
      },
      "outputs": [],
      "source": [
        "param_dist = {\n",
        "    'n_estimators': randint(50, 200),\n",
        "    'learning_rate': [0.05, 0.1, 0.2, 0.3, 0.4],\n",
        "    'max_depth': [3, 5, 7, 9, 11, 13],\n",
        "    'min_samples_split': randint(2, 20),\n",
        "    'min_samples_leaf': randint(1, 20),\n",
        "    'subsample': [0.8, 0.9, 1.0]\n",
        "}\n",
        "\n",
        "random_search = RandomizedSearchCV(estimator=gbm, param_distributions=param_dist, n_iter=100, cv=5, scoring='accuracy', random_state=42)\n",
        "random_search.fit(x_selected, y)\n",
        "\n",
        "print(\"Best parameters found: \", random_search.best_params_)\n",
        "print(\"Best cross-validation accuracy: {:.2f}\".format(random_search.best_score_))"
      ]
    },
    {
      "cell_type": "code",
      "execution_count": null,
      "id": "4b08a7b4",
      "metadata": {
        "id": "4b08a7b4"
      },
      "outputs": [],
      "source": [
        "import optuna\n",
        "from optuna import Trial, visualization\n",
        "from sklearn.metrics import accuracy_score\n",
        "from sklearn.model_selection import cross_val_score\n",
        "from sklearn.ensemble import GradientBoostingClassifier\n",
        "\n",
        "def objective(trial: Trial):\n",
        "    param = {\n",
        "        'n_estimators': trial.suggest_int('n_estimators', 50, 300),\n",
        "        'learning_rate': trial.suggest_float('learning_rate', 0.01, 0.4, log=True),\n",
        "        'max_depth': trial.suggest_int('max_depth', 3, 15),\n",
        "        'min_samples_split': trial.suggest_int('min_samples_split', 2, 50),\n",
        "        'min_samples_leaf': trial.suggest_int('min_samples_leaf', 1, 50),\n",
        "        'subsample': trial.suggest_float('subsample', 0.6, 1.0)\n",
        "    }\n",
        "\n",
        "    gbm = GradientBoostingClassifier(**param)\n",
        "\n",
        "    # Using cross-validation to get the average accuracy score\n",
        "    accuracy = cross_val_score(gbm, x_selected, y, cv=5, scoring='accuracy').mean()\n",
        "\n",
        "    return accuracy\n",
        "\n",
        "study = optuna.create_study(direction='maximize')\n",
        "study.optimize(objective, n_trials=200)\n",
        "\n",
        "print(\"Best trial:\")\n",
        "trial = study.best_trial\n",
        "print(f\"  Value: {trial.value}\")\n",
        "print(\"  Params: \")\n",
        "for key, value in trial.params.items():\n",
        "    print(f\"    {key}: {value}\")\n"
      ]
    },
    {
      "cell_type": "code",
      "execution_count": null,
      "id": "f2871268",
      "metadata": {
        "id": "f2871268"
      },
      "outputs": [],
      "source": []
    }
  ],
  "metadata": {
    "kernelspec": {
      "display_name": "Python 3 (ipykernel)",
      "language": "python",
      "name": "python3"
    },
    "language_info": {
      "codemirror_mode": {
        "name": "ipython",
        "version": 3
      },
      "file_extension": ".py",
      "mimetype": "text/x-python",
      "name": "python",
      "nbconvert_exporter": "python",
      "pygments_lexer": "ipython3",
      "version": "3.11.5"
    },
    "colab": {
      "provenance": []
    }
  },
  "nbformat": 4,
  "nbformat_minor": 5
}